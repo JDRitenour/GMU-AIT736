{
 "cells": [
  {
   "cell_type": "code",
   "execution_count": 1,
   "id": "9fdc9c26",
   "metadata": {},
   "outputs": [],
   "source": [
    "import pandas as pd\n",
    "import numpy as np\n",
    "\n",
    "import matplotlib.pyplot as plt\n",
    "\n",
    "import tensorflow as tf\n",
    "from tensorflow import keras\n",
    "from tensorflow.keras.preprocessing.image import ImageDataGenerator\n",
    "from tensorflow.keras import layers\n",
    "from tensorflow.keras.models import Sequential"
   ]
  },
  {
   "cell_type": "markdown",
   "id": "c32e79d2",
   "metadata": {},
   "source": [
    "Create a Model with a input_shape of (75, 75, 3) and a learning rate of 1-e5"
   ]
  },
  {
   "cell_type": "code",
   "execution_count": 3,
   "id": "fa5261f4",
   "metadata": {},
   "outputs": [],
   "source": [
    "#load base model\n",
    "\n",
    "base_model = keras.applications.InceptionV3(\n",
    "                    weights='imagenet',\n",
    "                    input_shape=(75, 75, 3),\n",
    "                    include_top=False)"
   ]
  },
  {
   "cell_type": "code",
   "execution_count": 4,
   "id": "976bbc61",
   "metadata": {},
   "outputs": [],
   "source": [
    "# Freeze base model\n",
    "base_model.trainable = False"
   ]
  },
  {
   "cell_type": "code",
   "execution_count": 22,
   "id": "a6994a16",
   "metadata": {},
   "outputs": [],
   "source": [
    "# add layers to model\n",
    "\n",
    "inputs = keras.Input(shape = (75, 75, 3))\n",
    "\n",
    "x = base_model(inputs)\n",
    "x = keras.layers.GlobalAveragePooling2D()(x)\n",
    "x = keras.layers.Dense(14, activation='relu')(x)\n",
    "\n",
    "outputs = keras.layers.Dense(14, activation='softmax')(x)\n",
    "\n",
    "model = keras.Model(inputs, outputs)"
   ]
  },
  {
   "cell_type": "code",
   "execution_count": 23,
   "id": "c81ce8d0",
   "metadata": {},
   "outputs": [
    {
     "name": "stdout",
     "output_type": "stream",
     "text": [
      "Model: \"model_4\"\n",
      "_________________________________________________________________\n",
      "Layer (type)                 Output Shape              Param #   \n",
      "=================================================================\n",
      "input_8 (InputLayer)         [(None, 75, 75, 3)]       0         \n",
      "_________________________________________________________________\n",
      "inception_v3 (Functional)    (None, 1, 1, 2048)        21802784  \n",
      "_________________________________________________________________\n",
      "global_average_pooling2d_4 ( (None, 2048)              0         \n",
      "_________________________________________________________________\n",
      "dense_6 (Dense)              (None, 14)                28686     \n",
      "_________________________________________________________________\n",
      "dense_7 (Dense)              (None, 14)                210       \n",
      "=================================================================\n",
      "Total params: 21,831,680\n",
      "Trainable params: 21,797,248\n",
      "Non-trainable params: 34,432\n",
      "_________________________________________________________________\n"
     ]
    }
   ],
   "source": [
    "model.summary()"
   ]
  },
  {
   "cell_type": "code",
   "execution_count": 10,
   "id": "2d90f353",
   "metadata": {},
   "outputs": [],
   "source": [
    "model.compile(loss = keras.losses.CategoricalCrossentropy(),\n",
    "              metrics = keras.metrics.CategoricalAccuracy())"
   ]
  },
  {
   "cell_type": "code",
   "execution_count": 11,
   "id": "c4b9cb2c",
   "metadata": {},
   "outputs": [],
   "source": [
    "from tensorflow.keras.preprocessing.image import ImageDataGenerator\n",
    "\n",
    "train_gen = ImageDataGenerator(samplewise_center=True,\n",
    "    rotation_range=10,\n",
    "    zoom_range=0.1, \n",
    "    width_shift_range=0.1,  \n",
    "    height_shift_range=0.1,  \n",
    "    horizontal_flip=True,  \n",
    "    vertical_flip=True)\n",
    "\n",
    "test_gen = ImageDataGenerator(samplewise_center=True)"
   ]
  },
  {
   "cell_type": "code",
   "execution_count": 13,
   "id": "90c89c7f",
   "metadata": {},
   "outputs": [
    {
     "name": "stdout",
     "output_type": "stream",
     "text": [
      "Found 21044 images belonging to 14 classes.\n",
      "Found 6738 images belonging to 14 classes.\n"
     ]
    }
   ],
   "source": [
    "train = train_gen.flow_from_directory(\n",
    "    '../dataset/Train',\n",
    "    target_size=(75, 75),\n",
    "    color_mode=\"rgb\",\n",
    "    class_mode=\"categorical\")\n",
    "\n",
    "\n",
    "test = test_gen.flow_from_directory(\n",
    "    '../dataset/Test',\n",
    "    target_size=(75, 75),\n",
    "    color_mode=\"rgb\",\n",
    "    class_mode=\"categorical\")"
   ]
  },
  {
   "cell_type": "code",
   "execution_count": 14,
   "id": "7e9ea10f",
   "metadata": {},
   "outputs": [
    {
     "data": {
      "text/plain": [
       "{'freshapples': 0,\n",
       " 'freshbanana': 1,\n",
       " 'freshcucumber': 2,\n",
       " 'freshokra': 3,\n",
       " 'freshoranges': 4,\n",
       " 'freshpotato': 5,\n",
       " 'freshtomato': 6,\n",
       " 'rottenapples': 7,\n",
       " 'rottenbanana': 8,\n",
       " 'rottencucumber': 9,\n",
       " 'rottenokra': 10,\n",
       " 'rottenoranges': 11,\n",
       " 'rottenpotato': 12,\n",
       " 'rottentomato': 13}"
      ]
     },
     "execution_count": 14,
     "metadata": {},
     "output_type": "execute_result"
    }
   ],
   "source": [
    "train.class_indices"
   ]
  },
  {
   "cell_type": "code",
   "execution_count": 10,
   "id": "b7c06e6f",
   "metadata": {},
   "outputs": [
    {
     "name": "stderr",
     "output_type": "stream",
     "text": [
      "Clipping input data to the valid range for imshow with RGB data ([0..1] for floats or [0..255] for integers).\n",
      "Clipping input data to the valid range for imshow with RGB data ([0..1] for floats or [0..255] for integers).\n",
      "Clipping input data to the valid range for imshow with RGB data ([0..1] for floats or [0..255] for integers).\n",
      "Clipping input data to the valid range for imshow with RGB data ([0..1] for floats or [0..255] for integers).\n",
      "Clipping input data to the valid range for imshow with RGB data ([0..1] for floats or [0..255] for integers).\n",
      "Clipping input data to the valid range for imshow with RGB data ([0..1] for floats or [0..255] for integers).\n",
      "Clipping input data to the valid range for imshow with RGB data ([0..1] for floats or [0..255] for integers).\n",
      "Clipping input data to the valid range for imshow with RGB data ([0..1] for floats or [0..255] for integers).\n",
      "Clipping input data to the valid range for imshow with RGB data ([0..1] for floats or [0..255] for integers).\n",
      "Clipping input data to the valid range for imshow with RGB data ([0..1] for floats or [0..255] for integers).\n"
     ]
    },
    {
     "data": {
      "image/png": "[encoded data removed]",
      "text/plain": [
       "<Figure size 1440x720 with 10 Axes>"
      ]
     },
     "metadata": {
      "needs_background": "light"
     },
     "output_type": "display_data"
    }
   ],
   "source": [
    "import matplotlib.pyplot as plt\n",
    "\n",
    "# Encode the classes\n",
    "classes = train.class_indices\n",
    "classes = {indx: c for c, indx in classes.items()}\n",
    "\n",
    "\n",
    "#PLotting some images \n",
    "images, labels=train.next()\n",
    "plt.figure(figsize=(20,10))\n",
    "for i in range(10):\n",
    "    plt.subplot(3, 4, i+1)\n",
    "    plt.imshow(images[i])\n",
    "    #plt.axis('off')\n",
    "    plt.xlabel(classes[np.argmax(labels[i])])"
   ]
  },
  {
   "cell_type": "code",
   "execution_count": 15,
   "id": "6952d0a3",
   "metadata": {},
   "outputs": [
    {
     "name": "stdout",
     "output_type": "stream",
     "text": [
      "Epoch 1/5\n",
      "657/657 [==============================] - 149s 222ms/step - loss: 3.0084 - categorical_accuracy: 0.1446 - val_loss: 2.5408 - val_categorical_accuracy: 0.1466\n",
      "Epoch 2/5\n",
      "657/657 [==============================] - 126s 191ms/step - loss: 2.4528 - categorical_accuracy: 0.1543 - val_loss: 2.5346 - val_categorical_accuracy: 0.1466\n",
      "Epoch 3/5\n",
      "657/657 [==============================] - 129s 197ms/step - loss: 2.4339 - categorical_accuracy: 0.1544 - val_loss: 2.5453 - val_categorical_accuracy: 0.1466\n"
     ]
    },
    {
     "data": {
      "text/plain": [
       "<tensorflow.python.keras.callbacks.History at 0x7fb0296097f0>"
      ]
     },
     "execution_count": 15,
     "metadata": {},
     "output_type": "execute_result"
    }
   ],
   "source": [
    "callbacks = keras.callbacks.EarlyStopping(patience = 1, \n",
    "                                          monitor='val_loss',\n",
    "                                          restore_best_weights=True)\n",
    "\n",
    "\n",
    "model.fit(train,\n",
    "          validation_data = test,\n",
    "          steps_per_epoch = train.samples/train.batch_size,\n",
    "          validation_steps= test.samples/test.batch_size,\n",
    "          epochs=5,\n",
    "          callbacks= [callbacks])"
   ]
  },
  {
   "cell_type": "code",
   "execution_count": 16,
   "id": "4c195966",
   "metadata": {},
   "outputs": [],
   "source": [
    "# Unfreeze the base model\n",
    "base_model.trainable = True\n",
    "\n",
    "# Compile the model with a low learning rate\n",
    "model.compile(optimizer=keras.optimizers.Adam(learning_rate = 1e-5),\n",
    "               loss=keras.losses.CategoricalCrossentropy(),\n",
    "               metrics=[keras.metrics.CategoricalAccuracy()])"
   ]
  },
  {
   "cell_type": "code",
   "execution_count": 17,
   "id": "faa7a139",
   "metadata": {},
   "outputs": [
    {
     "name": "stdout",
     "output_type": "stream",
     "text": [
      "Epoch 1/5\n",
      "657/657 [==============================] - 300s 450ms/step - loss: 2.3428 - categorical_accuracy: 0.1825 - val_loss: 2.3851 - val_categorical_accuracy: 0.2094\n",
      "Epoch 2/5\n",
      "657/657 [==============================] - 614s 934ms/step - loss: 1.9734 - categorical_accuracy: 0.3968 - val_loss: 1.8418 - val_categorical_accuracy: 0.4417\n",
      "Epoch 3/5\n",
      "657/657 [==============================] - 879s 1s/step - loss: 1.4986 - categorical_accuracy: 0.5153 - val_loss: 1.4176 - val_categorical_accuracy: 0.6149\n",
      "Epoch 4/5\n",
      "657/657 [==============================] - 818s 1s/step - loss: 1.0890 - categorical_accuracy: 0.7162 - val_loss: 1.0115 - val_categorical_accuracy: 0.7326\n",
      "Epoch 5/5\n",
      "657/657 [==============================] - 700s 1s/step - loss: 0.7750 - categorical_accuracy: 0.8041 - val_loss: 0.6777 - val_categorical_accuracy: 0.8424\n"
     ]
    },
    {
     "data": {
      "text/plain": [
       "<tensorflow.python.keras.callbacks.History at 0x7fafc817fbe0>"
      ]
     },
     "execution_count": 17,
     "metadata": {},
     "output_type": "execute_result"
    }
   ],
   "source": [
    "model.fit(train,\n",
    "          validation_data= test,\n",
    "          steps_per_epoch= train.samples/train.batch_size,\n",
    "          validation_steps= test.samples/test.batch_size,\n",
    "          epochs=5,\n",
    "          callbacks= [callbacks])"
   ]
  },
  {
   "cell_type": "code",
   "execution_count": 18,
   "id": "86966c94",
   "metadata": {},
   "outputs": [
    {
     "name": "stdout",
     "output_type": "stream",
     "text": [
      "210/210 [==============================] - 28s 135ms/step - loss: 0.6777 - categorical_accuracy: 0.8424\n"
     ]
    },
    {
     "data": {
      "text/plain": [
       "[0.6776805520057678, 0.8423864841461182]"
      ]
     },
     "execution_count": 18,
     "metadata": {},
     "output_type": "execute_result"
    }
   ],
   "source": [
    "model.evaluate(test, steps= test.samples/test.batch_size)"
   ]
  },
  {
   "cell_type": "markdown",
   "id": "611289aa",
   "metadata": {},
   "source": [
    "Update input_shape to (150, 150, 3)"
   ]
  },
  {
   "cell_type": "code",
   "execution_count": 35,
   "id": "852db010",
   "metadata": {},
   "outputs": [],
   "source": [
    "#load base model - increase trainable parameters\n",
    "\n",
    "base_model_2 = keras.applications.InceptionV3(\n",
    "                    weights='imagenet',\n",
    "                    input_shape=(150, 150, 3),\n",
    "                    include_top=False)"
   ]
  },
  {
   "cell_type": "code",
   "execution_count": 36,
   "id": "5d28748f",
   "metadata": {},
   "outputs": [],
   "source": [
    "inputs_2 = keras.Input(shape = (150, 150, 3))\n",
    "\n",
    "x = base_model_2(inputs_2)\n",
    "x = keras.layers.GlobalAveragePooling2D()(x)\n",
    "#x = keras.layers.Dense(150, activation='relu')(x)\n",
    "\n",
    "outputs_2 = keras.layers.Dense(14, activation='softmax')(x)\n",
    "\n",
    "model_2 = keras.Model(inputs_2, outputs_2)"
   ]
  },
  {
   "cell_type": "code",
   "execution_count": 37,
   "id": "cb21e941",
   "metadata": {},
   "outputs": [
    {
     "name": "stdout",
     "output_type": "stream",
     "text": [
      "Model: \"model_8\"\n",
      "_________________________________________________________________\n",
      "Layer (type)                 Output Shape              Param #   \n",
      "=================================================================\n",
      "input_14 (InputLayer)        [(None, 150, 150, 3)]     0         \n",
      "_________________________________________________________________\n",
      "inception_v3 (Functional)    (None, 3, 3, 2048)        21802784  \n",
      "_________________________________________________________________\n",
      "global_average_pooling2d_8 ( (None, 2048)              0         \n",
      "_________________________________________________________________\n",
      "dense_14 (Dense)             (None, 14)                28686     \n",
      "=================================================================\n",
      "Total params: 21,831,470\n",
      "Trainable params: 21,797,038\n",
      "Non-trainable params: 34,432\n",
      "_________________________________________________________________\n"
     ]
    }
   ],
   "source": [
    "model_2.summary()"
   ]
  },
  {
   "cell_type": "code",
   "execution_count": 41,
   "id": "984ef9dc",
   "metadata": {},
   "outputs": [],
   "source": [
    "# Unfreeze the base model\n",
    "base_model.trainable = True\n",
    "\n",
    "# Compile the model with a low learning rate\n",
    "model_2.compile(optimizer=keras.optimizers.Adam(learning_rate = 1e-5),\n",
    "               loss=keras.losses.CategoricalCrossentropy(),\n",
    "               metrics=[keras.metrics.CategoricalAccuracy()])"
   ]
  },
  {
   "cell_type": "code",
   "execution_count": 42,
   "id": "3a66a2ea",
   "metadata": {},
   "outputs": [
    {
     "name": "stdout",
     "output_type": "stream",
     "text": [
      "Epoch 1/5\n",
      "657/657 [==============================] - 332s 497ms/step - loss: 1.0022 - categorical_accuracy: 0.7011 - val_loss: 0.8929 - val_categorical_accuracy: 0.7566\n",
      "Epoch 2/5\n",
      "657/657 [==============================] - 358s 544ms/step - loss: 0.6657 - categorical_accuracy: 0.7907 - val_loss: 0.5942 - val_categorical_accuracy: 0.8213\n",
      "Epoch 3/5\n",
      "657/657 [==============================] - 298s 452ms/step - loss: 0.5083 - categorical_accuracy: 0.8328 - val_loss: 0.4698 - val_categorical_accuracy: 0.8602\n",
      "Epoch 4/5\n",
      "657/657 [==============================] - 319s 485ms/step - loss: 0.4162 - categorical_accuracy: 0.8611 - val_loss: 0.3483 - val_categorical_accuracy: 0.8899\n",
      "Epoch 5/5\n",
      "657/657 [==============================] - 316s 481ms/step - loss: 0.3617 - categorical_accuracy: 0.8794 - val_loss: 0.3170 - val_categorical_accuracy: 0.9055\n"
     ]
    },
    {
     "data": {
      "text/plain": [
       "<tensorflow.python.keras.callbacks.History at 0x7faf5afa1c10>"
      ]
     },
     "execution_count": 42,
     "metadata": {},
     "output_type": "execute_result"
    }
   ],
   "source": [
    "callbacks = keras.callbacks.EarlyStopping(patience = 1, \n",
    "                                          monitor='val_loss',\n",
    "                                          restore_best_weights=True)\n",
    "\n",
    "\n",
    "model_2.fit(train,\n",
    "          validation_data = test,\n",
    "          steps_per_epoch = train.samples/train.batch_size,\n",
    "          validation_steps= test.samples/test.batch_size,\n",
    "          epochs=5,\n",
    "          callbacks= [callbacks])"
   ]
  },
  {
   "cell_type": "code",
   "execution_count": 43,
   "id": "269bc89b",
   "metadata": {},
   "outputs": [
    {
     "name": "stdout",
     "output_type": "stream",
     "text": [
      "210/210 [==============================] - 24s 115ms/step - loss: 0.3170 - categorical_accuracy: 0.9055\n"
     ]
    },
    {
     "data": {
      "text/plain": [
       "[0.31700247526168823, 0.9054615497589111]"
      ]
     },
     "execution_count": 43,
     "metadata": {},
     "output_type": "execute_result"
    }
   ],
   "source": [
    "model_2.evaluate(test, steps= test.samples/test.batch_size)"
   ]
  },
  {
   "cell_type": "markdown",
   "id": "aa6aa724",
   "metadata": {},
   "source": [
    "Update input_shape to (300, 300, 3) and increase learning rate to 1e-3"
   ]
  },
  {
   "cell_type": "code",
   "execution_count": 44,
   "id": "b3f1415d",
   "metadata": {},
   "outputs": [],
   "source": [
    "#load base model - increase trainable parameters\n",
    "\n",
    "base_model_3 = keras.applications.InceptionV3(\n",
    "                    weights='imagenet',\n",
    "                    input_shape=(300, 300, 3),\n",
    "                    include_top=False)"
   ]
  },
  {
   "cell_type": "code",
   "execution_count": 45,
   "id": "98beef39",
   "metadata": {},
   "outputs": [],
   "source": [
    "inputs_3 = keras.Input(shape = (300, 300, 3))\n",
    "\n",
    "x = base_model_3(inputs_3)\n",
    "x = keras.layers.GlobalAveragePooling2D()(x)\n",
    "#x = keras.layers.Dense(150, activation='relu')(x)\n",
    "\n",
    "outputs_3 = keras.layers.Dense(14, activation='softmax')(x)\n",
    "\n",
    "model_3 = keras.Model(inputs_3, outputs_3)"
   ]
  },
  {
   "cell_type": "code",
   "execution_count": 46,
   "id": "2dcaa33d",
   "metadata": {},
   "outputs": [
    {
     "name": "stdout",
     "output_type": "stream",
     "text": [
      "Model: \"model_9\"\n",
      "_________________________________________________________________\n",
      "Layer (type)                 Output Shape              Param #   \n",
      "=================================================================\n",
      "input_16 (InputLayer)        [(None, 300, 300, 3)]     0         \n",
      "_________________________________________________________________\n",
      "inception_v3 (Functional)    (None, 8, 8, 2048)        21802784  \n",
      "_________________________________________________________________\n",
      "global_average_pooling2d_9 ( (None, 2048)              0         \n",
      "_________________________________________________________________\n",
      "dense_15 (Dense)             (None, 14)                28686     \n",
      "=================================================================\n",
      "Total params: 21,831,470\n",
      "Trainable params: 21,797,038\n",
      "Non-trainable params: 34,432\n",
      "_________________________________________________________________\n"
     ]
    }
   ],
   "source": [
    "model_3.summary()"
   ]
  },
  {
   "cell_type": "code",
   "execution_count": 48,
   "id": "6f5708e7",
   "metadata": {},
   "outputs": [],
   "source": [
    "# Unfreeze the base model\n",
    "base_model_3.trainable = True\n",
    "\n",
    "# Compile the model with a low learning rate\n",
    "model_3.compile(optimizer=keras.optimizers.Adam(learning_rate = 1e-3),\n",
    "               loss=keras.losses.CategoricalCrossentropy(),\n",
    "               metrics=[keras.metrics.CategoricalAccuracy()])"
   ]
  },
  {
   "cell_type": "code",
   "execution_count": 49,
   "id": "f5f94edf",
   "metadata": {},
   "outputs": [
    {
     "name": "stdout",
     "output_type": "stream",
     "text": [
      "Epoch 1/5\n",
      "657/657 [==============================] - 322s 483ms/step - loss: 1.0130 - categorical_accuracy: 0.6898 - val_loss: 2.4212 - val_categorical_accuracy: 0.6717\n",
      "Epoch 2/5\n",
      "657/657 [==============================] - 336s 510ms/step - loss: 0.7306 - categorical_accuracy: 0.7750 - val_loss: 7.8337 - val_categorical_accuracy: 0.1680\n"
     ]
    },
    {
     "data": {
      "text/plain": [
       "<tensorflow.python.keras.callbacks.History at 0x7faf28030760>"
      ]
     },
     "execution_count": 49,
     "metadata": {},
     "output_type": "execute_result"
    }
   ],
   "source": [
    "callbacks = keras.callbacks.EarlyStopping(patience = 1, \n",
    "                                          monitor='val_loss',\n",
    "                                          restore_best_weights=True)\n",
    "\n",
    "\n",
    "model_3.fit(train,\n",
    "          validation_data = test,\n",
    "          steps_per_epoch = train.samples/train.batch_size,\n",
    "          validation_steps= test.samples/test.batch_size,\n",
    "          epochs=5,\n",
    "          callbacks= [callbacks])"
   ]
  },
  {
   "cell_type": "markdown",
   "id": "bff8800c",
   "metadata": {},
   "source": [
    "Rerun the model but decrease the learning rate to 1e-4"
   ]
  },
  {
   "cell_type": "code",
   "execution_count": 50,
   "id": "8cb1c56a",
   "metadata": {},
   "outputs": [],
   "source": [
    "#load base model - increase trainable parameters\n",
    "\n",
    "base_model_4 = keras.applications.InceptionV3(\n",
    "                    weights='imagenet',\n",
    "                    input_shape=(300, 300, 3),\n",
    "                    include_top=False)"
   ]
  },
  {
   "cell_type": "code",
   "execution_count": 51,
   "id": "c70d9daa",
   "metadata": {},
   "outputs": [],
   "source": [
    "inputs_4 = keras.Input(shape = (300, 300, 3))\n",
    "\n",
    "x = base_model_4(inputs_4)\n",
    "x = keras.layers.GlobalAveragePooling2D()(x)\n",
    "#x = keras.layers.Dense(150, activation='relu')(x)\n",
    "\n",
    "outputs_4 = keras.layers.Dense(14, activation='softmax')(x)\n",
    "\n",
    "model_4 = keras.Model(inputs_4, outputs_4)"
   ]
  },
  {
   "cell_type": "code",
   "execution_count": 53,
   "id": "e5626831",
   "metadata": {},
   "outputs": [
    {
     "name": "stdout",
     "output_type": "stream",
     "text": [
      "Model: \"model_10\"\n",
      "_________________________________________________________________\n",
      "Layer (type)                 Output Shape              Param #   \n",
      "=================================================================\n",
      "input_18 (InputLayer)        [(None, 300, 300, 3)]     0         \n",
      "_________________________________________________________________\n",
      "inception_v3 (Functional)    (None, 8, 8, 2048)        21802784  \n",
      "_________________________________________________________________\n",
      "global_average_pooling2d_10  (None, 2048)              0         \n",
      "_________________________________________________________________\n",
      "dense_16 (Dense)             (None, 14)                28686     \n",
      "=================================================================\n",
      "Total params: 21,831,470\n",
      "Trainable params: 21,797,038\n",
      "Non-trainable params: 34,432\n",
      "_________________________________________________________________\n"
     ]
    }
   ],
   "source": [
    "model_4.summary()"
   ]
  },
  {
   "cell_type": "code",
   "execution_count": 54,
   "id": "ae6bd3bb",
   "metadata": {},
   "outputs": [],
   "source": [
    "# Unfreeze the base model\n",
    "base_model_4.trainable = True\n",
    "\n",
    "# Compile the model with a low learning rate\n",
    "model_4.compile(optimizer=keras.optimizers.Adam(learning_rate = 1e-4),\n",
    "               loss=keras.losses.CategoricalCrossentropy(),\n",
    "               metrics=[keras.metrics.CategoricalAccuracy()])"
   ]
  },
  {
   "cell_type": "code",
   "execution_count": 56,
   "id": "fb50a92d",
   "metadata": {},
   "outputs": [
    {
     "name": "stdout",
     "output_type": "stream",
     "text": [
      "Epoch 1/5\n",
      "657/657 [==============================] - 313s 469ms/step - loss: 0.7062 - categorical_accuracy: 0.7759 - val_loss: 0.2995 - val_categorical_accuracy: 0.9050\n",
      "Epoch 2/5\n",
      "657/657 [==============================] - 320s 487ms/step - loss: 0.2869 - categorical_accuracy: 0.9051 - val_loss: 0.1808 - val_categorical_accuracy: 0.9329\n",
      "Epoch 3/5\n",
      "657/657 [==============================] - 329s 500ms/step - loss: 0.2018 - categorical_accuracy: 0.9298 - val_loss: 0.6147 - val_categorical_accuracy: 0.9132\n"
     ]
    },
    {
     "data": {
      "text/plain": [
       "<tensorflow.python.keras.callbacks.History at 0x7fafffdbc970>"
      ]
     },
     "execution_count": 56,
     "metadata": {},
     "output_type": "execute_result"
    }
   ],
   "source": [
    "callbacks = keras.callbacks.EarlyStopping(patience = 1, \n",
    "                                          monitor='val_loss',\n",
    "                                          restore_best_weights=True)\n",
    "\n",
    "\n",
    "model_4.fit(train,\n",
    "          validation_data = test,\n",
    "          steps_per_epoch = train.samples/train.batch_size,\n",
    "          validation_steps= test.samples/test.batch_size,\n",
    "          epochs=5,\n",
    "          callbacks= [callbacks])"
   ]
  },
  {
   "cell_type": "code",
   "execution_count": 57,
   "id": "cb69b43e",
   "metadata": {},
   "outputs": [
    {
     "name": "stdout",
     "output_type": "stream",
     "text": [
      "210/210 [==============================] - 24s 114ms/step - loss: 0.1808 - categorical_accuracy: 0.9329\n"
     ]
    },
    {
     "data": {
      "text/plain": [
       "[0.1807674616575241, 0.9329177737236023]"
      ]
     },
     "execution_count": 57,
     "metadata": {},
     "output_type": "execute_result"
    }
   ],
   "source": [
    "model_4.evaluate(test, steps= test.samples/test.batch_size)"
   ]
  },
  {
   "cell_type": "markdown",
   "id": "f456d517",
   "metadata": {},
   "source": [
    "Rerun the model but decrease learning rate to 1e-5"
   ]
  },
  {
   "cell_type": "code",
   "execution_count": 58,
   "id": "d2900ee4",
   "metadata": {},
   "outputs": [
    {
     "name": "stdout",
     "output_type": "stream",
     "text": [
      "Epoch 1/5\n",
      "657/657 [==============================] - 327s 490ms/step - loss: 0.1845 - categorical_accuracy: 0.9368 - val_loss: 0.1286 - val_categorical_accuracy: 0.9535\n",
      "Epoch 2/5\n",
      "657/657 [==============================] - 335s 509ms/step - loss: 0.1616 - categorical_accuracy: 0.9439 - val_loss: 0.1191 - val_categorical_accuracy: 0.9553\n",
      "Epoch 3/5\n",
      "657/657 [==============================] - 335s 510ms/step - loss: 0.1388 - categorical_accuracy: 0.9512 - val_loss: 0.1135 - val_categorical_accuracy: 0.9598\n",
      "Epoch 4/5\n",
      "657/657 [==============================] - 319s 485ms/step - loss: 0.1336 - categorical_accuracy: 0.9547 - val_loss: 0.0972 - val_categorical_accuracy: 0.9650\n",
      "Epoch 5/5\n",
      "657/657 [==============================] - 335s 509ms/step - loss: 0.1205 - categorical_accuracy: 0.9574 - val_loss: 0.0858 - val_categorical_accuracy: 0.9714\n"
     ]
    },
    {
     "data": {
      "text/plain": [
       "<tensorflow.python.keras.callbacks.History at 0x7fb029e06b80>"
      ]
     },
     "execution_count": 58,
     "metadata": {},
     "output_type": "execute_result"
    }
   ],
   "source": [
    "# Compile the model with a low learning rate\n",
    "model_4.compile(optimizer=keras.optimizers.Adam(learning_rate = 1e-5),\n",
    "               loss=keras.losses.CategoricalCrossentropy(),\n",
    "               metrics=[keras.metrics.CategoricalAccuracy()])\n",
    "\n",
    "model_4.fit(train,\n",
    "          validation_data = test,\n",
    "          steps_per_epoch = train.samples/train.batch_size,\n",
    "          validation_steps= test.samples/test.batch_size,\n",
    "          epochs=5,\n",
    "          callbacks= [callbacks])"
   ]
  },
  {
   "cell_type": "code",
   "execution_count": 59,
   "id": "c2350b78",
   "metadata": {},
   "outputs": [
    {
     "name": "stdout",
     "output_type": "stream",
     "text": [
      "210/210 [==============================] - 24s 112ms/step - loss: 0.0858 - categorical_accuracy: 0.9714\n"
     ]
    },
    {
     "data": {
      "text/plain": [
       "[0.08575436472892761, 0.9713565111160278]"
      ]
     },
     "execution_count": 59,
     "metadata": {},
     "output_type": "execute_result"
    }
   ],
   "source": [
    "model_4.evaluate(test, steps= test.samples/test.batch_size)"
   ]
  },
  {
   "cell_type": "markdown",
   "id": "a6210e86",
   "metadata": {},
   "source": [
    "Train/Validation/Test Split"
   ]
  },
  {
   "cell_type": "code",
   "execution_count": 61,
   "id": "9a7c8f3f",
   "metadata": {},
   "outputs": [],
   "source": [
    "train_gen = ImageDataGenerator(samplewise_center=True,\n",
    "    rotation_range=10,\n",
    "    zoom_range=0.1, \n",
    "    width_shift_range=0.1,  \n",
    "    height_shift_range=0.1,  \n",
    "    horizontal_flip=True,  \n",
    "    vertical_flip=True,\n",
    "    validation_split= 0.25)"
   ]
  },
  {
   "cell_type": "code",
   "execution_count": 62,
   "id": "819c2e19",
   "metadata": {},
   "outputs": [
    {
     "name": "stdout",
     "output_type": "stream",
     "text": [
      "Found 15787 images belonging to 14 classes.\n",
      "Found 5257 images belonging to 14 classes.\n",
      "Found 6738 images belonging to 14 classes.\n"
     ]
    }
   ],
   "source": [
    "train = train_gen.flow_from_directory(\n",
    "    '../dataset/Train',\n",
    "    target_size = (75, 75),\n",
    "    color_mode = 'rgb',\n",
    "    class_mode = 'categorical',\n",
    "    subset = 'training')\n",
    "\n",
    "validate = train_gen.flow_from_directory(\n",
    "    '../dataset/Train',\n",
    "    target_size = (75, 75),\n",
    "    color_mode = 'rgb',\n",
    "    class_mode = 'categorical',\n",
    "    subset = 'validation')\n",
    "\n",
    "\n",
    "test = test_gen.flow_from_directory(\n",
    "    '../dataset/Test',\n",
    "    target_size = (75, 75),\n",
    "    color_mode = \"rgb\",\n",
    "    class_mode = \"categorical\")"
   ]
  },
  {
   "cell_type": "code",
   "execution_count": 63,
   "id": "c904426d",
   "metadata": {},
   "outputs": [
    {
     "name": "stdout",
     "output_type": "stream",
     "text": [
      "Epoch 1/5\n",
      "493/493 [==============================] - 241s 481ms/step - loss: 0.1070 - categorical_accuracy: 0.9629 - val_loss: 0.1215 - val_categorical_accuracy: 0.9576\n",
      "Epoch 2/5\n",
      "493/493 [==============================] - 263s 532ms/step - loss: 0.1099 - categorical_accuracy: 0.9638 - val_loss: 0.1626 - val_categorical_accuracy: 0.9446\n"
     ]
    },
    {
     "data": {
      "text/plain": [
       "<tensorflow.python.keras.callbacks.History at 0x7fafcc1c93a0>"
      ]
     },
     "execution_count": 63,
     "metadata": {},
     "output_type": "execute_result"
    }
   ],
   "source": [
    "# Compile the model with a low learning rate\n",
    "model_4.compile(optimizer=keras.optimizers.Adam(learning_rate = 1e-5),\n",
    "               loss=keras.losses.CategoricalCrossentropy(),\n",
    "               metrics=[keras.metrics.CategoricalAccuracy()])\n",
    "\n",
    "model_4.fit(train,\n",
    "          validation_data = validate,\n",
    "          steps_per_epoch = train.samples/train.batch_size,\n",
    "          validation_steps= validate.samples/validate.batch_size,\n",
    "          epochs=5,\n",
    "          callbacks= [callbacks])"
   ]
  },
  {
   "cell_type": "code",
   "execution_count": 65,
   "id": "1ee9ab38",
   "metadata": {},
   "outputs": [
    {
     "name": "stdout",
     "output_type": "stream",
     "text": [
      "211/211 [==============================] - 25s 116ms/step - loss: 0.0869 - categorical_accuracy: 0.9720\n"
     ]
    },
    {
     "data": {
      "text/plain": [
       "[0.08686290681362152, 0.971950113773346]"
      ]
     },
     "execution_count": 65,
     "metadata": {},
     "output_type": "execute_result"
    }
   ],
   "source": [
    "model_4.evaluate(test)"
   ]
  },
  {
   "cell_type": "code",
   "execution_count": null,
   "id": "96a69dcc",
   "metadata": {},
   "outputs": [],
   "source": []
  }
 ],
 "metadata": {
  "kernelspec": {
   "display_name": "Python 3",
   "language": "python",
   "name": "python3"
  },
  "language_info": {
   "codemirror_mode": {
    "name": "ipython",
    "version": 3
   },
   "file_extension": ".py",
   "mimetype": "text/x-python",
   "name": "python",
   "nbconvert_exporter": "python",
   "pygments_lexer": "ipython3",
   "version": "3.8.8"
  }
 },
 "nbformat": 4,
 "nbformat_minor": 5
}
